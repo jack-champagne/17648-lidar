{
 "cells": [
  {
   "cell_type": "code",
   "execution_count": 14,
   "id": "09aecd92-cd8f-489d-9d0d-27f653d8e5cb",
   "metadata": {},
   "outputs": [],
   "source": [
    "import laspy\n",
    "import numpy as np\n",
    "las = laspy.read(\"./dataset.las\")"
   ]
  },
  {
   "cell_type": "markdown",
   "id": "ea7c7b72-99d6-466d-ad49-38365261b748",
   "metadata": {},
   "source": [
    "# Name, date, course number:\n",
    "\n",
    "Jack Champagne, 2024-04-10, 17-648 Sensor Based Systems"
   ]
  },
  {
   "cell_type": "code",
   "execution_count": 15,
   "id": "7053664a-6d87-4cbd-a9cf-1260127e1697",
   "metadata": {},
   "outputs": [
    {
     "name": "stdout",
     "output_type": "stream",
     "text": [
      "Number of points in the dataset: 6609829\n"
     ]
    }
   ],
   "source": [
    "print(f\"Number of points in the dataset: {len(las.points)}\")"
   ]
  },
  {
   "cell_type": "code",
   "execution_count": 16,
   "id": "de88bcc0-bcae-4bfd-b11d-9e21a334b0a7",
   "metadata": {},
   "outputs": [
    {
     "name": "stdout",
     "output_type": "stream",
     "text": [
      "Version of .las file: 1.3\n"
     ]
    }
   ],
   "source": [
    "print(f\"Version of .las file: {las.header.version}\")"
   ]
  },
  {
   "cell_type": "code",
   "execution_count": 17,
   "id": "40f36f8e-7968-4c6c-9b27-fcdd705858ad",
   "metadata": {},
   "outputs": [
    {
     "name": "stdout",
     "output_type": "stream",
     "text": [
      "Header fields for file version\n",
      "count: 6609829\n",
      "point format: <PointFormat(1, 0 bytes of extra dims)>\n",
      "data offset: 411\n",
      "date: 2013-08-23\n",
      "encoding: 0\n",
      "LAS file signature: b'LASF'\n",
      "file source id: 101\n",
      "guid: 00000000-0000-0000-0000-000000000000\n",
      "header length: <LasHeader(1.3, <PointFormat(1, 0 bytes of extra dims)>)>\n",
      "major: 1\n",
      "max: [2.56999990e+05 4.11199999e+06 5.10250000e+02]\n",
      "min: [2.5600e+05 4.1110e+06 3.8466e+02]\n",
      "minor: 3\n",
      "num vlrs: 2\n",
      "offset: [2.55433920e+05 4.10937275e+06 3.49750000e+02]\n",
      "project id: 00000000-0000-0000-0000-000000000000\n",
      "return count: [5734366  874394     532     537       0       0       0       0       0\n",
      "       0       0       0       0       0       0]\n",
      "scale: [0.01 0.01 0.01]\n",
      "schema: <bound method PointFormat.dtype of <PointFormat(1, 0 bytes of extra dims)>>\n",
      "software id: las2las (version 140615)\n",
      "system id: LAStools (c) by rapidlasso GmbH\n"
     ]
    }
   ],
   "source": [
    "print(\"Header fields for file version\")\n",
    "print(\n",
    "f\"count: {las.header.point_count}\\npoint format: {las.header.point_format}\\ndata offset: {las.header.offset_to_point_data}\\n\\\n",
    "date: {las.header.creation_date}\\nencoding: {las.header.global_encoding.value}\\nLAS file signature: {laspy.header.LAS_FILE_SIGNATURE}\\n\\\n",
    "file source id: {las.header.file_source_id}\\nguid: {las.header.uuid}\\nheader length: {las.header}\\nmajor: {las.header.major_version}\\n\\\n",
    "max: {las.header.maxs}\\nmin: {las.header.mins}\\nminor: {las.header.minor_version}\\nnum vlrs: {len(las.header.vlrs)}\\n\\\n",
    "offset: {las.header.offsets}\\nproject id: {las.header.uuid}\\nreturn count: {las.header.number_of_points_by_return}\\n\\\n",
    "scale: {las.header.scales}\\nschema: {las.header.point_format.dtype}\\nsoftware id: {las.header.generating_software}\\nsystem id: {las.header.system_identifier}\")"
   ]
  },
  {
   "cell_type": "code",
   "execution_count": null,
   "id": "e05701a5-2407-4ddd-8fdb-9b44ac46a839",
   "metadata": {
    "scrolled": true
   },
   "outputs": [],
   "source": [
    "print(\"Data point version of las data\")\n",
    "datapoints = np.array(las.xyz)\n",
    "for datapoint in datapoints:\n",
    "    print(datapoint)"
   ]
  },
  {
   "cell_type": "markdown",
   "id": "57a53f97-172d-4d45-a1b2-edf172d73706",
   "metadata": {},
   "source": [
    "# Methods:\n",
    "\n",
    "To do this above, I mainly referenced: [laspy](https://laspy.readthedocs.io/en/latest/examples.html) documentation and examples as well as [liblas](https://liblas.org/python.html#liblas.point.Point.data) documentation for additional context behind key header fields. This included reading the documentation and examples to determine which fields of the header were key to the file format, as well as reading examples to understand which things were named what across the two libraries and the las file format standard. Finally, I entered the fields into a format string with their corresponding plain english names and printed them out to the console. For the datapoints of the las file, I made a simple loop that went over each of the datapoints and printed them line by line in array format. Each line represents a datapoint here in the las file format.\n",
    "\n",
    "To make this point cloud, I used the open3d library which has a lot of useful rendering utilities for point cloud rendering. Unfortunately, I could not get their jupyter notebooks viewer to work well, so I had to take a screenshot of the result and include it below."
   ]
  },
  {
   "cell_type": "code",
   "execution_count": 18,
   "id": "b23d080e-c3c3-4ced-8075-dda3d737b2d5",
   "metadata": {},
   "outputs": [],
   "source": [
    "import open3d as o3d\n",
    "from sklearn.preprocessing import normalize\n",
    "\n",
    "npd = np.array(las.xyz)\n",
    "\n",
    "pcd = o3d.geometry.PointCloud()\n",
    "pcd.points = o3d.utility.Vector3dVector(npd)\n",
    "o3d.visualization.draw_geometries([pcd])"
   ]
  },
  {
   "cell_type": "markdown",
   "id": "2c1c3165-89ba-4d86-9498-5916e6923b88",
   "metadata": {},
   "source": [
    "![RENDERED POINT CLOUD](./dataset-point-cloud.png)"
   ]
  }
 ],
 "metadata": {
  "kernelspec": {
   "display_name": "Python 3 (ipykernel)",
   "language": "python",
   "name": "python3"
  },
  "language_info": {
   "codemirror_mode": {
    "name": "ipython",
    "version": 3
   },
   "file_extension": ".py",
   "mimetype": "text/x-python",
   "name": "python",
   "nbconvert_exporter": "python",
   "pygments_lexer": "ipython3",
   "version": "3.11.8"
  }
 },
 "nbformat": 4,
 "nbformat_minor": 5
}
